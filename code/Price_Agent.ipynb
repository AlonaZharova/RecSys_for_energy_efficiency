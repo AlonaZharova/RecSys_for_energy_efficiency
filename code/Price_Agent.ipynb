{
 "cells": [
  {
   "cell_type": "markdown",
   "metadata": {
    "id": "bMJDpZGkZcYt"
   },
   "source": [
    "# **Price Agent**\n",
    "The overall goal of our recommendation system is that households shift their electricity consumption to hours at which electricity is less scarce. In order to measure scarcity, we use the signal of the electricity price on the wholesale electricity market. Our recommendation system then aims at recommending the cheapest device launching hours (at wholesale electricity prices). Therefore, our system should enable to recommend hours at which there is less scarcity.\n",
    "\n",
    "In order to perform that calculation, we need to collect and pre-process electricity price data. Given that the households of the REFIT Dataset are located in Great Britain (Murray et al., 2019), we collect hourly day-ahead electricity prices on the British wholesale electricity market. \n",
    "\n",
    "In the following, we pre-process the raw electricity-price data collected at ENTSO-E (ENTSO-E, n.d.) and define the **Price Agent** that returns the relevant price data for a single recommendation."
   ]
  },
  {
   "cell_type": "markdown",
   "metadata": {
    "id": "Ht6KVdfeaTTC"
   },
   "source": [
    "## **1. Initialize Environment And Load Data**"
   ]
  },
  {
   "cell_type": "code",
   "execution_count": 1,
   "metadata": {
    "id": "PzNwXsPl692a"
   },
   "outputs": [],
   "source": [
    "from helper_functions import Helper\n",
    "helper = Helper()\n",
    "\n",
    "FILE_PATH = '../data/'"
   ]
  },
  {
   "cell_type": "markdown",
   "metadata": {
    "id": "NakcKmV6amO7"
   },
   "source": [
    "## **2. Load Price Data**\n",
    "Unfortunately, we are missing the electricity prices for the year 2013 and 2014 during which the REFIT Study was conducted. As a replacement, we replicated the  electricity prices of the available year 2015. This should however not be an issue, given that households are unlikely to react to price changes on the wholesale market without a recommendaion system such as ours. Hence, we can consider that the observed household behaviour in the years 2013 and 2014 is realistic for the synthetically created prices in those years."
   ]
  },
  {
   "cell_type": "code",
   "execution_count": 2,
   "metadata": {
    "id": "AwXhFIUs7Mbi"
   },
   "outputs": [],
   "source": [
    "Electricity_prices = helper.create_day_ahead_prices_df(FILE_PATH, 'Day-ahead Prices_201501010000-201601010000.csv')"
   ]
  },
  {
   "cell_type": "markdown",
   "metadata": {
    "id": "CoZNO7X22g1a"
   },
   "source": [
    "## **3. Define Price Agent**"
   ]
  },
  {
   "cell_type": "markdown",
   "metadata": {
    "id": "-RrCsEePrI7c"
   },
   "source": [
    "The Price Agent has a very simple function defined below. For a given price data frame, and a given date, it returns the hourly day-ahead electricity price that can subsequently be used in the recommendation agent to compute the device usage cost at each launch hour. "
   ]
  },
  {
   "cell_type": "code",
   "execution_count": 3,
   "metadata": {
    "id": "jwiKt4UwmEUk"
   },
   "outputs": [],
   "source": [
    "class Price_Agent:\n",
    "    def __init__(self, Prices_df):\n",
    "        self.input = Prices_df\n",
    "\n",
    "    # pipeline function: return day ahead prices\n",
    "    # -------------------------------------------------------------------------------------------\n",
    "    def return_day_ahead_prices(self, Date):\n",
    "        import pandas as pd\n",
    "\n",
    "        range = pd.date_range(start=Date, freq=\"H\", periods=48)\n",
    "        prices = self.input.loc[range]\n",
    "        return prices"
   ]
  },
  {
   "cell_type": "code",
   "execution_count": 4,
   "metadata": {
    "colab": {
     "base_uri": "https://localhost:8080/"
    },
    "executionInfo": {
     "elapsed": 26047,
     "status": "ok",
     "timestamp": 1607623140330,
     "user": {
      "displayName": "Felix Germaine",
      "photoUrl": "",
      "userId": "07033484937606028650"
     },
     "user_tz": -60
    },
    "id": "p9PVAdW51n5q",
    "outputId": "61f2509b-5eba-40f0-8718-64c9ae49d96b"
   },
   "outputs": [
    {
     "data": {
      "text/plain": [
       "2015-02-28 00:00:00    40.02\n",
       "2015-02-28 01:00:00    36.42\n",
       "2015-02-28 02:00:00    35.73\n",
       "2015-02-28 03:00:00    34.51\n",
       "2015-02-28 04:00:00    28.88\n",
       "2015-02-28 05:00:00    33.78\n",
       "2015-02-28 06:00:00    35.08\n",
       "2015-02-28 07:00:00    34.54\n",
       "2015-02-28 08:00:00    41.74\n",
       "2015-02-28 09:00:00    56.09\n",
       "2015-02-28 10:00:00    65.08\n",
       "2015-02-28 11:00:00    54.09\n",
       "2015-02-28 12:00:00    39.91\n",
       "2015-02-28 13:00:00    35.04\n",
       "2015-02-28 14:00:00    34.51\n",
       "2015-02-28 15:00:00    34.97\n",
       "2015-02-28 16:00:00    35.92\n",
       "2015-02-28 17:00:00    49.96\n",
       "2015-02-28 18:00:00    77.63\n",
       "2015-02-28 19:00:00    49.90\n",
       "2015-02-28 20:00:00    37.23\n",
       "2015-02-28 21:00:00    39.22\n",
       "2015-02-28 22:00:00    37.41\n",
       "2015-02-28 23:00:00    35.60\n",
       "2015-03-01 00:00:00    35.94\n",
       "2015-03-01 01:00:00    35.65\n",
       "2015-03-01 02:00:00    33.02\n",
       "2015-03-01 03:00:00    32.00\n",
       "2015-03-01 04:00:00    31.72\n",
       "2015-03-01 05:00:00    35.93\n",
       "2015-03-01 06:00:00    35.95\n",
       "2015-03-01 07:00:00    36.03\n",
       "2015-03-01 08:00:00    37.42\n",
       "2015-03-01 09:00:00    39.93\n",
       "2015-03-01 10:00:00    45.05\n",
       "2015-03-01 11:00:00    44.96\n",
       "2015-03-01 12:00:00    44.91\n",
       "2015-03-01 13:00:00    41.59\n",
       "2015-03-01 14:00:00    36.57\n",
       "2015-03-01 15:00:00    40.65\n",
       "2015-03-01 16:00:00    57.92\n",
       "2015-03-01 17:00:00    74.34\n",
       "2015-03-01 18:00:00    57.13\n",
       "2015-03-01 19:00:00    42.03\n",
       "2015-03-01 20:00:00    44.02\n",
       "2015-03-01 21:00:00    44.04\n",
       "2015-03-01 22:00:00    36.58\n",
       "2015-03-01 23:00:00    40.01\n",
       "Freq: H, Name: Price, dtype: float64"
      ]
     },
     "execution_count": 4,
     "metadata": {},
     "output_type": "execute_result"
    }
   ],
   "source": [
    "test = Price_Agent(Electricity_prices)\n",
    "test.return_day_ahead_prices(\"2015-02-28\")"
   ]
  },
  {
   "cell_type": "markdown",
   "metadata": {},
   "source": [
    "## **References**"
   ]
  },
  {
   "cell_type": "markdown",
   "metadata": {},
   "source": [
    "ENTSO-E (n.d.). Day-ahead prices (12.1.d) [online database]. Retrieved December 8, 2020, from https://transparency.entsoe.eu/transmission-domain/r2/dayAheadPrices/show\n",
    "\n",
    "Murray, D., Stankovic, L., & Stankovic, V. (2017). An electrical load measurements datasetof united kingdom households from a two-year longitudinal study [data set]. *Scientific Data*."
   ]
  }
 ],
 "metadata": {
  "colab": {
   "collapsed_sections": [],
   "name": "02_Price_Agent.ipynb",
   "provenance": [],
   "toc_visible": true
  },
  "kernelspec": {
   "display_name": "Python 3",
   "language": "python",
   "name": "python3"
  },
  "language_info": {
   "codemirror_mode": {
    "name": "ipython",
    "version": 3
   },
   "file_extension": ".py",
   "mimetype": "text/x-python",
   "name": "python",
   "nbconvert_exporter": "python",
   "pygments_lexer": "ipython3",
   "version": "3.8.3"
  }
 },
 "nbformat": 4,
 "nbformat_minor": 4
}
